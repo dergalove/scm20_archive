{
 "cells": [
  {
   "cell_type": "markdown",
   "metadata": {},
   "source": [
    "## 28. Нелинейный метод наименьших квадратов\n",
    "\n",
    "[More J. J., Garbow B. S., Hillstrom K. E. Testing unconstrained optimization software // ACM TOMS. 1981. 7 (1). 17--41]\n",
    "\n",
    "Нелинейным методом наименьших квадратов\n",
    "построить модели вида\n",
    "$$\n",
    "y = \\beta_1 e^{-\\beta_2 x}\n",
    "\\qquad\n",
    "\\mbox{и}\n",
    "\\qquad\n",
    "y = \\beta_1 e^{\\frac{\\beta_2}{x+\\beta_3}}\n",
    "$$\n",
    "для данных, приведенных в таблице\n",
    "```\n",
    "  x         y    \n",
    "----------------                \n",
    " 50       34804    \n",
    " 55       28610    \n",
    " 60       23650    \n",
    " 65       19630    \n",
    " 70       16370    \n",
    " 75       13720    \n",
    " 80       11540    \n",
    " 85        9744    \n",
    " 90        8261    \n",
    " 95        7030    \n",
    "100        6005    \n",
    "105        5147    \n",
    "110        4427    \n",
    "115        3820    \n",
    "120        3307    \n",
    "125        2872    \n",
    "```\n",
    "Найти общую ошибку в каждом из этих случаев и сравнить результаты.\n",
    "\n",
    "*P.S. Значение y1 347804 заменено на 34804 по подозрению на мисклик.*"
   ]
  },
  {
   "cell_type": "code",
   "execution_count": 55,
   "metadata": {},
   "outputs": [],
   "source": [
    "#подключение библиотек и функций\n",
    "import numpy as np\n",
    "import math as m\n",
    "import matplotlib.pyplot as plt\n",
    "from scipy.optimize import curve_fit"
   ]
  },
  {
   "cell_type": "code",
   "execution_count": 56,
   "metadata": {},
   "outputs": [],
   "source": [
    "#задание исходных данных в виде массивов\n",
    "x = np.arange(50, 126, 5)\n",
    "# [50  55  60  65  70  75  80  85  90  95 100 105 110 115 120 125]\n",
    "y = np.array([34804,28610,23650,19630,16370,13720,11540,9744,8261,7030,6005,5147,4427,3820,3307,2872])"
   ]
  },
  {
   "cell_type": "markdown",
   "metadata": {},
   "source": [
    "Метод наименьших квадратов (далее МНК) широко применяется в решении различных систем уравнений, в том числе переопределенных, для аппроксимации точечных значений некоторой функции. Он основан на минимизации суммы квадратов отклонений некоторых функций от искомых переменных. То есть, $$\\sum_{i=1}^n e_i^2 = \\sum_{i=1}^n (y_i - f_i(x))^2 \\to min$$"
   ]
  },
  {
   "cell_type": "markdown",
   "metadata": {},
   "source": [
    "Для начала решим первое уравнение (модель): $$y_1 = \\beta_1 e^{-\\beta_2 x}\\qquad$$\n",
    "Прологарифмируем её по основанию е: $$ ln(y_1) = ln(\\beta_1) - \\beta_2 x $$\n",
    "Выразим сумму квадратов ошибки: $$ \\sum_{i=1}^n e_i^2 = \\sum_{i=1}^n (y_i - f_i(x))^2 = \\sum_{i=1}^n (y_i - ln(\\beta_1) + \\beta_2 x)^2$$\n",
    "Продифференцируем это уравнение по переменным $\\beta_1$ и $\\beta_2$ и приравняем к нулю: $$ \\frac{\\mathrm d}{\\mathrm d \\beta_1} \\left( e_1^2 \\right) =  -2 \\frac{\\sum_{i=1}^n(y_i - ln(\\beta_1) + \\beta_2 x)}{\\beta_1} = 0  $$ $$ \\frac{\\mathrm d}{\\mathrm d \\beta_2} \\left( e_1^2 \\right) =  -2 x \\sum_{i=1}^n(y_i - ln(\\beta_1) + \\beta_2 x) = 0  $$\n",
    "\n",
    "Имеем систему из двух уравнений с двумя неизвестными, откуда выражаем:\n",
    "\n",
    "ln $(\\beta_1) = \\frac{\\sum_{i=1}^n (y_i)}{16} + \\beta_2 \\frac{\\sum_{i=1}^n (x_i)}{16} $\n",
    "\n",
    "$\\beta_2 = - \\frac { \\frac{\\sum_{i=1}^n (y_i x_i)}{16} - \\frac{\\sum_{i=1}^n (x_i)}{16} \\frac{\\sum_{i=1}^n (y_i)}{16}} {  \\frac{\\sum_{i=1}^n (x_i)}{16}^2 - \\frac{\\sum_{i=1}^n (x_i^2)}{16}  } $\n",
    "\n",
    "Чтобы упростить формулы, обозначим $\\bar{a}$ за $\\frac {\\sum_{i=1}^n (a)} {16}$\n",
    "\n",
    "ln $(\\beta_1) = \\bar (y_i) - \\beta_2 \\bar(x_i)$\n",
    "\n",
    "$\\beta_2 = \\frac {\\bar (y_i x_i) - \\bar (x_i) \\bar(y_i)} {  \\bar (x_i)^2 - \\bar(x_i^2)  } $\n",
    "\n",
    ", откуда $$   \\beta_1 = 170 336, 8127     $$ $$   \\beta_2 = 0, 0332     $$\n"
   ]
  },
  {
   "cell_type": "code",
   "execution_count": 57,
   "metadata": {},
   "outputs": [
    {
     "data": {
      "image/png": "[encoded data removed]",
      "text/plain": [
       "<Figure size 432x288 with 1 Axes>"
      ]
     },
     "metadata": {
      "needs_background": "light"
     },
     "output_type": "display_data"
    }
   ],
   "source": [
    "def func(x,b1,b2):\n",
    "    return b1 * np.exp(-1*b2*x)\n",
    "p = np.empty (16)\n",
    "for i in range (0, 16):\n",
    "    p[i] = func(x[i],170336.8127, 0.0332)\n",
    "plt.plot(x, p, label='Model 1')\n",
    "plt.plot(x, y, \"o\", label='Original Data')\n",
    "plt.legend()\n",
    "pass"
   ]
  },
  {
   "cell_type": "markdown",
   "metadata": {},
   "source": [
    "Вычисление ошибки можно опустить, т. к. её величина очевидна. Теперь рассмотрим, как МНК реализован в компьютерной математике.\n",
    "\n",
    "В библиотеке scipy есть функция curve_fit, использующая нелинейный метод наименьших квадратов для максимального совпадения построенной функции с исходными данными. На вход подаётся:\n",
    "\n",
    "1) модель, по которой будет строиться функция, объявленная с помощью define,\n",
    "\n",
    "2) массив значений х,\n",
    "\n",
    "3) массив значений у,\n",
    "\n",
    "4) массив предполагаемых значений переменных $\\beta_1$, ..., $\\beta_n$.\n",
    "\n",
    "Результаты работы curve_fit, оптимальные значения переменных, присваиваются новому массиву переменных $\\beta_1$, ..., $\\beta_n$ , а  переменной \"_\" присваивается расчётная ковариация, в нашем случае не используемая. Затем создаём массив новых значений у с помощью функции из п. 1 и новых значений $\\beta_1$, ..., $\\beta_n$."
   ]
  },
  {
   "cell_type": "code",
   "execution_count": 58,
   "metadata": {
    "scrolled": false
   },
   "outputs": [
    {
     "name": "stdout",
     "output_type": "stream",
     "text": [
      "[b1 b2] = [2.02261388e+05 3.55594749e-02]\n"
     ]
    },
    {
     "data": {
      "image/png": "[encoded data removed]",
      "text/plain": [
       "<Figure size 432x288 with 1 Axes>"
      ]
     },
     "metadata": {
      "needs_background": "light"
     },
     "output_type": "display_data"
    }
   ],
   "source": [
    "sug = [170336.8127, 0.0332]\n",
    "def fun1(x,b1,b2):\n",
    "    return b1 * np.exp(-1*b2*x)\n",
    "y2 = np.empty (16,  dtype=np.float)\n",
    "c, _ = curve_fit(fun1, x, y, sug)\n",
    "print(\"[b1 b2] =\", c)\n",
    "for i in range(0, 16):\n",
    "    y2[i] = fun1(x[i], c[0], c[1])\n",
    "plt.plot(x, y2,  label='MNK Prediction')\n",
    "plt.plot(x, y,  \"o\", label='Original Data')\n",
    "plt.legend()\n",
    "pass"
   ]
  },
  {
   "cell_type": "markdown",
   "metadata": {},
   "source": [
    "Как видим, значения $\\beta_1$ и $\\beta_2$, полученные в первом случае, близки к настоящим, но функция curve_fit позволяет снизить суммарную ошибку, что говорит о её совершенности по сравнению с \"ручным\" решением.\n",
    "\n",
    "Применим МНК, выраженный функцией curve_fit, на второй модели:  $ y = \\beta_1 e^{\\frac{\\beta_2}{x+\\beta_3}} $ :"
   ]
  },
  {
   "cell_type": "code",
   "execution_count": 59,
   "metadata": {},
   "outputs": [
    {
     "name": "stdout",
     "output_type": "stream",
     "text": [
      "[b1 b2 b3] = [6.24484598e-03 6.08987461e+03 3.42051181e+02]\n"
     ]
    },
    {
     "data": {
      "image/png": "[encoded data removed]",
      "text/plain": [
       "<Figure size 432x288 with 1 Axes>"
      ]
     },
     "metadata": {
      "needs_background": "light"
     },
     "output_type": "display_data"
    }
   ],
   "source": [
    "s = [0.001,1000,100]\n",
    "def fun2(x,b1,b2,b3):\n",
    "    return b1 * np.exp(b2/(x+b3))\n",
    "y3 = np.empty (16,  dtype=np.float)\n",
    "d, _ = curve_fit(fun2, x, y, s)\n",
    "print(\"[b1 b2 b3] =\", d)\n",
    "for i in range(0, 16):\n",
    "    y3[i] = fun2(x[i], d[0], d[1], d[2])\n",
    "plt.plot(x, y3,  label='MNK Prediction')\n",
    "plt.plot(x, y, \"o\",  label='Original Data')\n",
    "plt.legend()\n",
    "pass"
   ]
  },
  {
   "cell_type": "markdown",
   "metadata": {},
   "source": [
    "Невооружённым вгзлядом видно, настолько точна вторая модель. Подкрепим это предположение расчётами.\n",
    "\n",
    "Общую ошибку обеих моделей вычислим по данной формуле: $ \\bar{err} = \\frac{\\sum_{i=1}^n err_i^2}{n} = \\frac{\\sum_{i=1}^n (y_i - f_i(x))^2}{n} $"
   ]
  },
  {
   "cell_type": "code",
   "execution_count": 60,
   "metadata": {},
   "outputs": [
    {
     "name": "stdout",
     "output_type": "stream",
     "text": [
      "Ошибка модели 1 =  122814.78083633968\n",
      "Ошибка модели 2 =  8.841784846867363\n"
     ]
    }
   ],
   "source": [
    "er1 = np.array (y - y2)\n",
    "for i in range (0,16):\n",
    "    er1[i] = er1[i]**2\n",
    "error1 = sum(er1)/16\n",
    "\n",
    "er2 = np.array (y - y3)\n",
    "for i in range (0,16):\n",
    "    er2[i] = er2[i]**2\n",
    "error2 = sum(er2)/16\n",
    "\n",
    "print(\"Ошибка модели 1 = \", error1)\n",
    "print(\"Ошибка модели 2 = \", error2)"
   ]
  },
  {
   "cell_type": "markdown",
   "metadata": {},
   "source": [
    "### Вывод:\n",
    "    \n",
    "    Цифры говорят за себя: вторая модель оказалась гораздо точнее первой, хотя графически она довольно близка к исходным данных, а компьютерной математике вполне под силу решить подобные переопределённые системы уравнений с множеством неизвестных. Очевидно, что точность решения напрямую зависит от количества переменных, по которым составляется уравнение."
   ]
  }
 ],
 "metadata": {
  "kernelspec": {
   "display_name": "Python 3",
   "language": "python",
   "name": "python3"
  },
  "language_info": {
   "codemirror_mode": {
    "name": "ipython",
    "version": 3
   },
   "file_extension": ".py",
   "mimetype": "text/x-python",
   "name": "python",
   "nbconvert_exporter": "python",
   "pygments_lexer": "ipython3",
   "version": "3.7.4"
  }
 },
 "nbformat": 4,
 "nbformat_minor": 2
}
